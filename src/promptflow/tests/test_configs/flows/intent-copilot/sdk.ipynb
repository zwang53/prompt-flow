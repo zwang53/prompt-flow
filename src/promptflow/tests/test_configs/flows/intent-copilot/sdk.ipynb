{
 "cells": [
  {
   "attachments": {},
   "cell_type": "markdown",
   "metadata": {},
   "source": [
    "# Run promptflow in cloud"
   ]
  },
  {
   "cell_type": "code",
   "execution_count": null,
   "metadata": {},
   "outputs": [],
   "source": [
    "import os\n",
    "import promptflow.azure as pf \n",
    "from promptflow.azure.entities import BulkFlowRunInput\n",
    "\n",
    "# configure azureml workspace ml_client\n",
    "from azure.ai.ml import MLClient\n",
    "from azure.identity import DefaultAzureCredential\n",
    "\n",
    "client = MLClient(\n",
    "    credential=DefaultAzureCredential(),\n",
    "    subscription_id=\"96aede12-2f73-41cb-b983-6d11a904839b\",\n",
    "    resource_group_name=\"promptflow\",\n",
    "    workspace_name=\"promptflow-canary\",\n",
    ")\n",
    "pf.configure(client=client)\n",
    "\n",
    "flow_dir = \".\"\n",
    "data = \"./data/denormalized-flat.jsonl\"\n",
    "runtime = \"mir-0616\""
   ]
  },
  {
   "cell_type": "code",
   "execution_count": null,
   "metadata": {},
   "outputs": [],
   "source": [
    "# load flow\n",
    "flow = pf.load_flow(flow_dir)\n"
   ]
  },
  {
   "cell_type": "code",
   "execution_count": null,
   "metadata": {},
   "outputs": [],
   "source": [
    "print(flow)"
   ]
  },
  {
   "attachments": {},
   "cell_type": "markdown",
   "metadata": {},
   "source": [
    "# Bulk Run in cloud"
   ]
  },
  {
   "cell_type": "code",
   "execution_count": null,
   "metadata": {},
   "outputs": [],
   "source": [
    "# standard flow using remote data\n",
    "run = flow.submit_bulk_run(\n",
    "    data=data,\n",
    "    connections={},\n",
    "    runtime=runtime,\n",
    ")\n",
    "print(run)"
   ]
  },
  {
   "cell_type": "code",
   "execution_count": null,
   "metadata": {},
   "outputs": [],
   "source": [
    "run.wait_for_completion()"
   ]
  },
  {
   "cell_type": "code",
   "execution_count": null,
   "metadata": {},
   "outputs": [],
   "source": [
    "pf.show_details(run)"
   ]
  },
  {
   "cell_type": "code",
   "execution_count": null,
   "metadata": {},
   "outputs": [],
   "source": [
    "pf.show_metrics(run)"
   ]
  },
  {
   "attachments": {},
   "cell_type": "markdown",
   "metadata": {},
   "source": [
    "# Eval run in cloud"
   ]
  },
  {
   "cell_type": "code",
   "execution_count": null,
   "metadata": {},
   "outputs": [],
   "source": [
    "from promptflow.azure.entities import BulkFlowRunInput\n",
    "\n",
    "\n",
    "classification_accuracy_eval = pf.load_flow(\"../classification_accuracy_evaluation\")\n",
    "\n",
    "bulk_flow_run_input = BulkFlowRunInput(\n",
    "    data=data,\n",
    "    variants=[run],\n",
    "    inputs_mapping={\"groundtruth\": \"data.intent\", \"prediction\": \"variants.output.output\"},\n",
    ")\n",
    "\n",
    "baseline_accuracy = classification_accuracy_eval.submit_bulk_run(\n",
    "    data=bulk_flow_run_input,\n",
    "    runtime=runtime,\n",
    ")\n",
    "\n",
    "print(baseline_accuracy)"
   ]
  },
  {
   "cell_type": "code",
   "execution_count": null,
   "metadata": {},
   "outputs": [],
   "source": [
    "baseline_accuracy.wait_for_completion()"
   ]
  },
  {
   "cell_type": "code",
   "execution_count": null,
   "metadata": {},
   "outputs": [],
   "source": [
    "pf.show_details(baseline_accuracy)"
   ]
  },
  {
   "cell_type": "code",
   "execution_count": null,
   "metadata": {},
   "outputs": [],
   "source": [
    "pf.show_metrics(baseline_accuracy)"
   ]
  }
 ],
 "metadata": {
  "kernelspec": {
   "display_name": "promptflow",
   "language": "python",
   "name": "python3"
  },
  "language_info": {
   "codemirror_mode": {
    "name": "ipython",
    "version": 3
   },
   "file_extension": ".py",
   "mimetype": "text/x-python",
   "name": "python",
   "nbconvert_exporter": "python",
   "pygments_lexer": "ipython3",
   "version": "3.9.16"
  },
  "orig_nbformat": 4
 },
 "nbformat": 4,
 "nbformat_minor": 2
}
