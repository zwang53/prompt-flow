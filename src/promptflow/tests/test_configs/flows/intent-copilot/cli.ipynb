{
 "cells": [
  {
   "attachments": {},
   "cell_type": "markdown",
   "metadata": {},
   "source": [
    "# Prerequisites\n",
    "\n",
    "install promptflow-sdk and other dependencies:"
   ]
  },
  {
   "cell_type": "code",
   "execution_count": null,
   "metadata": {},
   "outputs": [],
   "source": [
    "# install needed packages\n",
    "!pip install -r requirements.txt"
   ]
  },
  {
   "attachments": {},
   "cell_type": "markdown",
   "metadata": {},
   "source": [
    "write environment variables in .env file:"
   ]
  },
  {
   "cell_type": "code",
   "execution_count": null,
   "metadata": {},
   "outputs": [],
   "source": [
    "%%writefile .env\n",
    "CHAT_DEPLOYMENT_NAME=gpt-35-turbo\n",
    "AZURE_OPENAI_API_KEY=\n",
    "AZURE_OPENAI_API_BASE=https://wanhanopenai.openai.azure.com/"
   ]
  },
  {
   "attachments": {},
   "cell_type": "markdown",
   "metadata": {},
   "source": [
    "# Run promptflow"
   ]
  },
  {
   "cell_type": "code",
   "execution_count": null,
   "metadata": {},
   "outputs": [],
   "source": [
    "# Step 1. init flow directory - create promptflow folder from existing python file\n",
    "!pf init . --entry intent.py --function extract_intent --prompt-template user_prompt_template=user_intent_zero_shot.md"
   ]
  },
  {
   "cell_type": "code",
   "execution_count": null,
   "metadata": {},
   "outputs": [],
   "source": [
    "# Step 2. run with single line input\n",
    "!pf test --input ./data/denormalized-flat.jsonl --env .env"
   ]
  },
  {
   "cell_type": "code",
   "execution_count": null,
   "metadata": {},
   "outputs": [],
   "source": [
    "# Step 3. bulk run with multiple lines input\n",
    "!pf run_bulk --input ./data/denormalized-flat.jsonl --output ./outputs/ --env .env"
   ]
  },
  {
   "cell_type": "code",
   "execution_count": null,
   "metadata": {},
   "outputs": [],
   "source": [
    "# Step 4. evaluation\n",
    "!pf eval --flow ../classification_accuracy_evaluation --input ./data/denormalized-flat.jsonl --bulk-run-output ./outputs/ --eval-output ./outputs/eval_output.jsonl --column-mapping \"groundtruth=data.intent,prediction=variants.output.output\""
   ]
  },
  {
   "cell_type": "code",
   "execution_count": null,
   "metadata": {},
   "outputs": [],
   "source": [
    "# Step 5. visualize\n",
    "!pf visualize ./outputs/eval_output.jsonl "
   ]
  },
  {
   "attachments": {},
   "cell_type": "markdown",
   "metadata": {},
   "source": [
    "# Run promptflow in cloud"
   ]
  },
  {
   "cell_type": "code",
   "execution_count": null,
   "metadata": {},
   "outputs": [],
   "source": [
    "# Define the workspace & runtime to use\n",
    "subscription_id=\"96aede12-2f73-41cb-b983-6d11a904839b\"\n",
    "resource_group_name=\"promptflow\"\n",
    "workspace_name=\"promptflow-canary\"\n",
    "runtime = \"mir-0616\""
   ]
  },
  {
   "cell_type": "code",
   "execution_count": null,
   "metadata": {},
   "outputs": [],
   "source": [
    "# Step 1: login & configure default workspace\n",
    "#!az login\n",
    "\n",
    "# set default workspace etc.\n",
    "!az account set -s $subscription_id\n",
    "!az configure --defaults group=$resource_group_name workspace=$workspace_name"
   ]
  },
  {
   "cell_type": "code",
   "execution_count": null,
   "metadata": {},
   "outputs": [],
   "source": [
    "# Step 2: create custom connection if not exist in workspace\n",
    "!pf connections create --name \"custom_connection\" --type Custom --env .env"
   ]
  },
  {
   "cell_type": "code",
   "execution_count": null,
   "metadata": {},
   "outputs": [],
   "source": [
    "# Step 3: run bulk in cloud\n",
    "!pf run_bulk --runtime $runtime --input ./data/denormalized-flat.jsonl --connection \"custom_connection\""
   ]
  },
  {
   "cell_type": "code",
   "execution_count": null,
   "metadata": {},
   "outputs": [],
   "source": [
    "# Step 3.1: wait for completion\n",
    "# NOTE: Copy the bulk run id from the output of previous bulk run step, \n",
    "# e.g.: azureml://experiment/5fbfda62-4e3d-43da-b908-8b8feca82b17/flow/e943b457-acd4-4b4a-9d72-765bb81fe758/bulktest/b9a1c98a-87bd-4bce-bf1d-a392ffad321c/run/f88faee6-e510-45b7-9e63-08671b30b3a2\n",
    "!pf stream \"azureml://experiment/5fbfda62-4e3d-43da-b908-8b8feca82b17/flow/e943b457-acd4-4b4a-9d72-765bb81fe758/bulktest/b9a1c98a-87bd-4bce-bf1d-a392ffad321c/run/f88faee6-e510-45b7-9e63-08671b30b3a2\"\n"
   ]
  },
  {
   "cell_type": "code",
   "execution_count": null,
   "metadata": {},
   "outputs": [],
   "source": [
    "# Step 3.2: visualize run data\n",
    "# NOTE: Copy the bulk run id from the output of previous bulk run step\n",
    "!pf visualize \"azureml://experiment/5fbfda62-4e3d-43da-b908-8b8feca82b17/flow/e943b457-acd4-4b4a-9d72-765bb81fe758/bulktest/b9a1c98a-87bd-4bce-bf1d-a392ffad321c/run/f88faee6-e510-45b7-9e63-08671b30b3a2\""
   ]
  },
  {
   "cell_type": "code",
   "execution_count": null,
   "metadata": {},
   "outputs": [],
   "source": [
    "# Step 4: run evaluation in cloud\n",
    "# NOTE: Copy the bulk run id from the output of previous bulk run step as variants\n",
    "!pf eval --flow ../classification_accuracy_evaluation --runtime $runtime \\\n",
    "    --input ./data/denormalized-flat.jsonl --column-mapping \"groundtruth=data.intent,prediction=variants.output.output\" \\\n",
    "    --variants \"azureml://experiment/5fbfda62-4e3d-43da-b908-8b8feca82b17/flow/e943b457-acd4-4b4a-9d72-765bb81fe758/bulktest/b9a1c98a-87bd-4bce-bf1d-a392ffad321c/run/f88faee6-e510-45b7-9e63-08671b30b3a2\""
   ]
  },
  {
   "cell_type": "code",
   "execution_count": null,
   "metadata": {},
   "outputs": [],
   "source": [
    "# Step 4.1: wait for completion\n",
    "# NOTE: Copy the evaluate run id from the output of previous step\n",
    "!pf stream \"azureml://experiment/5fbfda62-4e3d-43da-b908-8b8feca82b17/flow/e943b457-acd4-4b4a-9d72-765bb81fe758/bulktest/b9a1c98a-87bd-4bce-bf1d-a392ffad321c/run/dfacaf5d-769d-412a-8f88-cc4cce6e1eb2\"\n"
   ]
  },
  {
   "cell_type": "code",
   "execution_count": null,
   "metadata": {},
   "outputs": [],
   "source": [
    "# Step 4.2 visualize run data\n",
    "# NOTE: Copy the evaluate flow id from the output of previous step\n",
    "!pf visualize \"azureml://experiment/5fbfda62-4e3d-43da-b908-8b8feca82b17/flow/e943b457-acd4-4b4a-9d72-765bb81fe758/bulktest/b9a1c98a-87bd-4bce-bf1d-a392ffad321c/run/dfacaf5d-769d-412a-8f88-cc4cce6e1eb2\""
   ]
  },
  {
   "attachments": {},
   "cell_type": "markdown",
   "metadata": {},
   "source": [
    "# Notes\n",
    "\n",
    "The cli command demoed in this notebook is implemented here: \n",
    "https://msdata.visualstudio.com/DefaultCollection/Vienna/_git/PromptFlow?path=/src/promptflow-sdk/promptflow/_cli/pf.py\n"
   ]
  },
  {
   "cell_type": "code",
   "execution_count": null,
   "metadata": {},
   "outputs": [],
   "source": [
    "import os\n",
    "from promptflow._cli import pf\n",
    "dir = os.path.dirname(pf.__file__)\n",
    "print(dir)"
   ]
  },
  {
   "cell_type": "code",
   "execution_count": null,
   "metadata": {},
   "outputs": [],
   "source": [
    "# copy the related files if you want to tweak some command.\n",
    "!ls $dir"
   ]
  }
 ],
 "metadata": {
  "kernelspec": {
   "display_name": "promptflow-39",
   "language": "python",
   "name": "python3"
  },
  "language_info": {
   "codemirror_mode": {
    "name": "ipython",
    "version": 3
   },
   "file_extension": ".py",
   "mimetype": "text/x-python",
   "name": "python",
   "nbconvert_exporter": "python",
   "pygments_lexer": "ipython3",
   "version": "3.9.16"
  },
  "orig_nbformat": 4
 },
 "nbformat": 4,
 "nbformat_minor": 2
}
