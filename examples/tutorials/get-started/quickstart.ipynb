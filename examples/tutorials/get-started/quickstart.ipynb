{
 "cells": [
  {
   "cell_type": "markdown",
   "metadata": {},
   "source": [
    "# 入门 Prompt Flow\n",
    "\n",
    "**先决条件** - 要充分利用本教程，您需要：\n",
    "- Prompt Flow repo 的本地克隆\n",
    "- 支持 Jupyter Notebook 的 Python 环境（例如 Jupyter Lab 或 Visual Studio Code 的 Python 扩展）\n",
    "- 知道如何使用 Python 编程\n",
    "\n",
    "_具有机器学习的基本理解可能会有所帮助，但不是必需的。_\n",
    "\n",
    "**学习目标** - 完成本教程后，您应该能够：\n",
    "\n",
    "- 运行您的第一个 Prompt Flow 示例\n",
    "- 运行您的第一个评估\n",
    "\n",
    "本教程中使用的示例是 [web-classification](../../flows/standard/web-classification/README.md) 流，它将 URL 分类为几个预定义类别。分类是传统的机器学习任务，此示例说明如何使用 GPT 和提示执行分类。\n"
   ]
  },
  {
   "cell_type": "markdown",
   "metadata": {},
   "source": [
    "## 0. 安装依赖库"
   ]
  },
  {
   "cell_type": "code",
   "execution_count": null,
   "metadata": {},
   "outputs": [],
   "source": [
    "%pip install -r ../../requirements.txt"
   ]
  },
  {
   "cell_type": "markdown",
   "metadata": {},
   "source": [
    "## 1. 创建必要的连接\n",
    "连接有助于安全地存储和管理与 LLM 和其他外部工具交互所需的秘密密钥或其他敏感凭据，例如 Azure 内容安全性。\n",
    "\n",
    "在这个笔记本中，我们将使用流 `web-classification`，它在内部使用连接 `open_ai_connection`，如果我们之前没有添加它，我们需要设置连接。创建后，它将存储在本地数据库中，并可以在任何流中使用。\n",
    "\n",
    "如果您未曾创建过OpenAI资源，请按照此[说明](https://learn.microsoft.com/en-us/azure/cognitive-services/openai/how-to/create-resource?pivots=web-portal)准备您的 Azure Open AI 资源，并获取您的 `api_key`。\n",
    "\n",
    "如果您已经创建过OpenAI资源，请直接在您的Azure Portal中获取`api_base`和`api_key`。\n"
   ]
  },
  {
   "cell_type": "code",
   "execution_count": 2,
   "metadata": {},
   "outputs": [],
   "source": [
    "import json\n",
    "from promptflow import PFClient\n",
    "from promptflow.connections import AzureOpenAIConnection, OpenAIConnection\n",
    "\n",
    "# client can help manage your runs and connections.\n",
    "pf = PFClient()"
   ]
  },
  {
   "cell_type": "markdown",
   "metadata": {},
   "source": [
    "注意：这里要将前面准备好的OpenAI资源的`api_base`和`api_key`填入以下代码中，从而创建一个OpenAI连接。`api_version`请默认填入`2023-05-15`。"
   ]
  },
  {
   "cell_type": "code",
   "execution_count": 3,
   "metadata": {},
   "outputs": [
    {
     "name": "stdout",
     "output_type": "stream",
     "text": [
      "using existing connection\n",
      "name: open_ai_connection\n",
      "module: promptflow.connections\n",
      "created_date: '2023-08-31T12:16:58.884737'\n",
      "last_modified_date: '2023-08-31T12:16:58.884737'\n",
      "type: azure_open_ai\n",
      "api_key: '******'\n",
      "api_base: https://aoaijapaneast01.openai.azure.com/\n",
      "api_type: azure\n",
      "api_version: '2023-05-15'\n",
      "\n"
     ]
    }
   ],
   "source": [
    "try:\n",
    "    conn_name = \"open_ai_connection\"\n",
    "    conn = pf.connections.get(name=conn_name)\n",
    "    print(\"using existing connection\")\n",
    "except:\n",
    "    # Follow https://learn.microsoft.com/en-us/azure/ai-services/openai/how-to/create-resource?pivots=web-portal to create an Azure Open AI resource.\n",
    "    connection = AzureOpenAIConnection(\n",
    "        name=conn_name,\n",
    "        api_key=\"<your_openai_key>\", #ToDO replace with your own key\n",
    "        api_base=\"<your_openai_base>\", #ToDO replace with your own base\n",
    "        api_type=\"azure\",\n",
    "        api_version=\"<test_version>\", #ToDO replace with the version you want to use\n",
    "    )\n",
    "\n",
    "    # use this if you have an existing OpenAI account\n",
    "    # connection = OpenAIConnection(\n",
    "    #     name=conn_name,\n",
    "    #     api_key=\"<user-input>\",\n",
    "    # )\n",
    "\n",
    "    conn = pf.connections.create_or_update(connection)\n",
    "    print(\"successfully created connection\")\n",
    "\n",
    "print(conn)"
   ]
  },
  {
   "cell_type": "markdown",
   "metadata": {},
   "source": [
    "## 2. 运行 web-classification 流\n",
    "\n",
    "`web-classification` 是一个演示使用 LLM 进行多类分类的流。给定一个 URL，它将使用简单的摘要和分类提示将 URL 分类为一个 Web 类别。\n",
    "\n"
   ]
  },
  {
   "cell_type": "markdown",
   "metadata": {},
   "source": [
    "### 设置flow的地址"
   ]
  },
  {
   "cell_type": "code",
   "execution_count": 4,
   "metadata": {},
   "outputs": [],
   "source": [
    "flow = \"../../flows/standard/web-classification\"  # path to the flow directory"
   ]
  },
  {
   "cell_type": "markdown",
   "metadata": {},
   "source": [
    "### 测试"
   ]
  },
  {
   "cell_type": "code",
   "execution_count": 5,
   "metadata": {},
   "outputs": [
    {
     "name": "stdout",
     "output_type": "stream",
     "text": [
      "2023-08-31 15:50:18 +0800   13748 execution          INFO     Start to run 5 nodes with concurrency level 16.\n",
      "2023-08-31 15:50:18 +0800   13748 execution.flow     INFO     Executing node fetch_text_content_from_url. node run id: 7a0928f3-43f0-4a11-87b5-3436cbd9b7c1_fetch_text_content_from_url_0\n",
      "2023-08-31 15:50:18 +0800   13748 execution.flow     INFO     Executing node prepare_examples. node run id: 7a0928f3-43f0-4a11-87b5-3436cbd9b7c1_prepare_examples_0\n",
      "2023-08-31 15:50:19 +0800   13748 execution.flow     INFO     Node prepare_examples completes.\n",
      "2023-08-31 15:50:19 +0800   13748 execution.flow     INFO     Node fetch_text_content_from_url completes.\n",
      "2023-08-31 15:50:19 +0800   13748 execution.flow     INFO     Executing node summarize_text_content. node run id: 7a0928f3-43f0-4a11-87b5-3436cbd9b7c1_summarize_text_content_0\n",
      "2023-08-31 15:50:24 +0800   13748 execution.flow     INFO     Node summarize_text_content completes.\n",
      "2023-08-31 15:50:24 +0800   13748 execution.flow     INFO     Executing node classify_with_llm. node run id: 7a0928f3-43f0-4a11-87b5-3436cbd9b7c1_classify_with_llm_0\n",
      "2023-08-31 15:50:26 +0800   13748 execution.flow     INFO     Node classify_with_llm completes.\n",
      "2023-08-31 15:50:26 +0800   13748 execution.flow     INFO     Executing node convert_to_dict. node run id: 7a0928f3-43f0-4a11-87b5-3436cbd9b7c1_convert_to_dict_0\n",
      "2023-08-31 15:50:26 +0800   13748 execution.flow     INFO     Node convert_to_dict completes.\n",
      "Flow result: {'category': 'App', 'evidence': 'Both'}\n"
     ]
    }
   ],
   "source": [
    "# Test flow\n",
    "flow_inputs = {\n",
    "    \"url\": \"https://play.google.com/store/apps/details?id=com.twitter.android\",\n",
    "}\n",
    "flow_result = pf.test(flow=flow, inputs=flow_inputs)\n",
    "print(f\"Flow result: {flow_result}\")"
   ]
  },
  {
   "cell_type": "code",
   "execution_count": 6,
   "metadata": {},
   "outputs": [
    {
     "name": "stdout",
     "output_type": "stream",
     "text": [
      "2023-08-31 15:50:26 +0800   13748 execution.flow     INFO     Executing node fetch_text_content_from_url. node run id: d3484623-f104-485c-8feb-b2cf56b7e8e1_fetch_text_content_from_url_c971ce0d-9d4d-4066-9c34-9042ea2b0864\n",
      "2023-08-31 15:50:26 +0800   13748 execution.flow     INFO     Node fetch_text_content_from_url completes.\n",
      "Node result: X - Apps on Google Playgoogle_logo PlayGamesAppsMovies & TVBooksKidsnonesearchhelp_outline Sign in with Googleplay_appsLibrary & devicespaymentPayments & subscriptionsreviewsMy Play activityredeemOffersPlay PasssettingsSettingsPrivacy Policy • Terms of ServiceGamesAppsMovies & TVBooksKidsXX Corp.Contains adsIn-app purchases3.9star21.3M reviews1B+DownloadsMature 17+infoInstallShareAdd to wishlistAbout this apparrow_forwardThe X app is the trusted global digital town square for everyone.With X, you can:- Post content for the world to see and join public conversations- Stay up to date on breaking news and follow your interests- Stay better informed with extra context from Community Notes- Go live with Spaces for audio or stream live video- Communicate privately with Direct Messages- Subscribe to X Premium to expand your reach, get a blue checkmark, and more- Earn a living creating exclusive content for your paid subscribers and share in the ad revenue generated in replies to your posts- Create and join Communities around topics and interests, from sports to music to technology- Upload and watch videos up to 3 hours in length- Write and read long form posts like essays and blogs- Connect directly with your customers to help your business growUpdated onAug 29, 2023#6 top free socialSocialData safetyarrow_forwardSafety starts with understanding how developers collect and share your data. Data privacy and security practices may vary based on your use, region, and age. The developer provided this information and may update it over time.No data shared with third partiesLearn more about how developers declare sharingThis app may collect these data typesLocation, Personal info and 9 othersData is encrypted in transitYou can request that data be deletedSee detailsRatings and reviewsRatings and reviews are verifiedinfo_outlinearrow_forwardRatings and reviews are verifiedinfo_outlinephone_androidPhonetablet_androidTabletwatchWatchlaptopChromebooktvTV3.920.6M reviews54321Dnyceonem\n"
     ]
    }
   ],
   "source": [
    "# Test single node in the flow\n",
    "node_name = \"fetch_text_content_from_url\"\n",
    "node_inputs = {\n",
    "    \"url\": \"https://play.google.com/store/apps/details?id=com.twitter.android\"\n",
    "}\n",
    "flow_result = pf.test(flow=flow, inputs=node_inputs, node=node_name)\n",
    "print(f\"Node result: {flow_result}\")"
   ]
  },
  {
   "cell_type": "markdown",
   "metadata": {},
   "source": [
    "### 使用Data file中的多行数据进行批量测试\n"
   ]
  },
  {
   "cell_type": "code",
   "execution_count": 7,
   "metadata": {},
   "outputs": [
    {
     "name": "stdout",
     "output_type": "stream",
     "text": [
      "2023-08-31 15:50:31 +0800   25316 execution          INFO     Start to run 5 nodes with concurrency level 2.\n",
      "2023-08-31 15:50:31 +0800   25316 execution.flow     INFO     Executing node fetch_text_content_from_url. node run id: c_users_wazhi_documents_github_fy24devhack_promptflow_examples_flows_standard_web_classification_default_20230831_155027_193152_fetch_text_content_from_url_1\n",
      "2023-08-31 15:50:31 +0800   25316 execution.flow     INFO     Executing node prepare_examples. node run id: c_users_wazhi_documents_github_fy24devhack_promptflow_examples_flows_standard_web_classification_default_20230831_155027_193152_prepare_examples_1\n",
      "2023-08-31 15:50:31 +0800    7752 execution          INFO     Start to run 5 nodes with concurrency level 2.\n",
      "2023-08-31 15:50:31 +0800    7752 execution.flow     INFO     Executing node fetch_text_content_from_url. node run id: c_users_wazhi_documents_github_fy24devhack_promptflow_examples_flows_standard_web_classification_default_20230831_155027_193152_fetch_text_content_from_url_2\n",
      "2023-08-31 15:50:31 +0800    7752 execution.flow     INFO     Executing node prepare_examples. node run id: c_users_wazhi_documents_github_fy24devhack_promptflow_examples_flows_standard_web_classification_default_20230831_155027_193152_prepare_examples_2\n",
      "2023-08-31 15:50:31 +0800   42180 execution          INFO     Start to run 5 nodes with concurrency level 2.\n",
      "2023-08-31 15:50:31 +0800   42180 execution.flow     INFO     Executing node fetch_text_content_from_url. node run id: c_users_wazhi_documents_github_fy24devhack_promptflow_examples_flows_standard_web_classification_default_20230831_155027_193152_fetch_text_content_from_url_0\n",
      "2023-08-31 15:50:31 +0800   42180 execution.flow     INFO     Executing node prepare_examples. node run id: c_users_wazhi_documents_github_fy24devhack_promptflow_examples_flows_standard_web_classification_default_20230831_155027_193152_prepare_examples_0\n",
      "2023-08-31 15:50:31 +0800   25316 execution.flow     INFO     Node prepare_examples completes.\n",
      "2023-08-31 15:50:31 +0800    7752 execution.flow     INFO     Node prepare_examples completes.\n",
      "2023-08-31 15:50:31 +0800   42180 execution.flow     INFO     Node prepare_examples completes.\n",
      "2023-08-31 15:50:32 +0800    7752 execution.flow     INFO     Node fetch_text_content_from_url completes.\n",
      "2023-08-31 15:50:32 +0800    7752 execution.flow     INFO     Executing node summarize_text_content. node run id: c_users_wazhi_documents_github_fy24devhack_promptflow_examples_flows_standard_web_classification_default_20230831_155027_193152_summarize_text_content_2\n",
      "2023-08-31 15:50:32 +0800   42180 execution.flow     INFO     Node fetch_text_content_from_url completes.\n",
      "2023-08-31 15:50:32 +0800   42180 execution.flow     INFO     Executing node summarize_text_content. node run id: c_users_wazhi_documents_github_fy24devhack_promptflow_examples_flows_standard_web_classification_default_20230831_155027_193152_summarize_text_content_0\n",
      "2023-08-31 15:50:32 +0800   25316 execution.flow     INFO     Node fetch_text_content_from_url completes.\n",
      "2023-08-31 15:50:32 +0800   25316 execution.flow     INFO     Executing node summarize_text_content. node run id: c_users_wazhi_documents_github_fy24devhack_promptflow_examples_flows_standard_web_classification_default_20230831_155027_193152_summarize_text_content_1\n",
      "2023-08-31 15:50:34 +0800   42180 execution.flow     INFO     Node summarize_text_content completes.\n",
      "2023-08-31 15:50:34 +0800   42180 execution.flow     INFO     Executing node classify_with_llm. node run id: c_users_wazhi_documents_github_fy24devhack_promptflow_examples_flows_standard_web_classification_default_20230831_155027_193152_classify_with_llm_0\n",
      "2023-08-31 15:50:35 +0800   42180 execution.flow     INFO     Node classify_with_llm completes.\n",
      "2023-08-31 15:50:35 +0800   42180 execution.flow     INFO     Executing node convert_to_dict. node run id: c_users_wazhi_documents_github_fy24devhack_promptflow_examples_flows_standard_web_classification_default_20230831_155027_193152_convert_to_dict_0\n",
      "2023-08-31 15:50:35 +0800   42180 execution.flow     INFO     Node convert_to_dict completes.\n",
      "2023-08-31 15:50:36 +0800   13748 execution          INFO     Process 0 queue empty, exit.\n",
      "2023-08-31 15:50:36 +0800   25316 execution.flow     INFO     Node summarize_text_content completes.\n",
      "2023-08-31 15:50:36 +0800   25316 execution.flow     INFO     Executing node classify_with_llm. node run id: c_users_wazhi_documents_github_fy24devhack_promptflow_examples_flows_standard_web_classification_default_20230831_155027_193152_classify_with_llm_1\n",
      "2023-08-31 15:50:37 +0800    7752 execution.flow     INFO     Node summarize_text_content completes.\n",
      "2023-08-31 15:50:37 +0800    7752 execution.flow     INFO     Executing node classify_with_llm. node run id: c_users_wazhi_documents_github_fy24devhack_promptflow_examples_flows_standard_web_classification_default_20230831_155027_193152_classify_with_llm_2\n",
      "2023-08-31 15:50:37 +0800    7752 execution.flow     INFO     Node classify_with_llm completes.\n",
      "2023-08-31 15:50:37 +0800    7752 execution.flow     INFO     Executing node convert_to_dict. node run id: c_users_wazhi_documents_github_fy24devhack_promptflow_examples_flows_standard_web_classification_default_20230831_155027_193152_convert_to_dict_2\n",
      "2023-08-31 15:50:37 +0800    7752 execution.flow     INFO     Node convert_to_dict completes.\n",
      "2023-08-31 15:50:38 +0800   25316 execution.flow     INFO     Node classify_with_llm completes.\n",
      "2023-08-31 15:50:38 +0800   25316 execution.flow     INFO     Executing node convert_to_dict. node run id: c_users_wazhi_documents_github_fy24devhack_promptflow_examples_flows_standard_web_classification_default_20230831_155027_193152_convert_to_dict_1\n",
      "2023-08-31 15:50:38 +0800   25316 execution.flow     INFO     Node convert_to_dict completes.\n",
      "2023-08-31 15:50:38 +0800   13748 execution          INFO     Process 2 queue empty, exit.\n",
      "2023-08-31 15:50:39 +0800   13748 execution          INFO     Process 1 queue empty, exit.\n",
      "======= Run Summary =======\n",
      "\n",
      "Run name: \"c_users_wazhi_documents_github_fy24devhack_promptflow_examples_flows_standard_web_classification_default_20230831_155027_193152\"\n",
      "Run status: \"Completed\"\n",
      "Start time: \"2023-08-31 15:50:26.846472\"\n",
      "Duration: \"0:00:12.277582\"\n",
      "Output path: \"C:\\Users\\wazhi\\.promptflow\\.runs\\c_users_wazhi_documents_github_fy24devhack_promptflow_examples_flows_standard_web_classification_default_20230831_155027_193152\"\n",
      "\n"
     ]
    }
   ],
   "source": [
    "data = \"../../flows/standard/web-classification/data.jsonl\"  # path to the data file\n",
    "\n",
    "# create run with default variant\n",
    "base_run = pf.run(flow=flow, data=data, stream=True)"
   ]
  },
  {
   "cell_type": "code",
   "execution_count": 8,
   "metadata": {},
   "outputs": [
    {
     "data": {
      "text/html": [
       "<div>\n",
       "<style scoped>\n",
       "    .dataframe tbody tr th:only-of-type {\n",
       "        vertical-align: middle;\n",
       "    }\n",
       "\n",
       "    .dataframe tbody tr th {\n",
       "        vertical-align: top;\n",
       "    }\n",
       "\n",
       "    .dataframe thead th {\n",
       "        text-align: right;\n",
       "    }\n",
       "</style>\n",
       "<table border=\"1\" class=\"dataframe\">\n",
       "  <thead>\n",
       "    <tr style=\"text-align: right;\">\n",
       "      <th></th>\n",
       "      <th>inputs.url</th>\n",
       "      <th>inputs.line_number</th>\n",
       "      <th>outputs.category</th>\n",
       "      <th>outputs.evidence</th>\n",
       "    </tr>\n",
       "  </thead>\n",
       "  <tbody>\n",
       "    <tr>\n",
       "      <th>0</th>\n",
       "      <td>https://www.youtube.com/watch?v=kYqRtjDBci8</td>\n",
       "      <td>0</td>\n",
       "      <td>None</td>\n",
       "      <td>None</td>\n",
       "    </tr>\n",
       "    <tr>\n",
       "      <th>1</th>\n",
       "      <td>https://arxiv.org/abs/2307.04767</td>\n",
       "      <td>1</td>\n",
       "      <td>Academic</td>\n",
       "      <td>Both</td>\n",
       "    </tr>\n",
       "    <tr>\n",
       "      <th>2</th>\n",
       "      <td>https://play.google.com/store/apps/details?id=...</td>\n",
       "      <td>2</td>\n",
       "      <td>App</td>\n",
       "      <td>Both</td>\n",
       "    </tr>\n",
       "  </tbody>\n",
       "</table>\n",
       "</div>"
      ],
      "text/plain": [
       "                                          inputs.url  inputs.line_number  \\\n",
       "0        https://www.youtube.com/watch?v=kYqRtjDBci8                   0   \n",
       "1                   https://arxiv.org/abs/2307.04767                   1   \n",
       "2  https://play.google.com/store/apps/details?id=...                   2   \n",
       "\n",
       "  outputs.category outputs.evidence  \n",
       "0             None             None  \n",
       "1         Academic             Both  \n",
       "2              App             Both  "
      ]
     },
     "execution_count": 8,
     "metadata": {},
     "output_type": "execute_result"
    }
   ],
   "source": [
    "details = pf.get_details(base_run)\n",
    "details.head(10)"
   ]
  },
  {
   "cell_type": "markdown",
   "metadata": {},
   "source": [
    "## 3. 评估您的流程\n",
    "然后，您可以使用评估方法来评估您的流程。评估方法也是flow，它们使用 Python 或 LLM 等计算指标，如准确性、相关性分数。\n",
    "\n",
    "在这个笔记本中，我们使用 `classification-accuracy-eval` 流程进行评估。这是一个演示如何评估分类系统性能的流程。它涉及将每个预测与基准进行比较，并分配“正确”或“不正确”的等级，并聚合结果以产生诸如准确性之类的指标，反映系统在对数据进行分类方面的表现如何。\n"
   ]
  },
  {
   "cell_type": "markdown",
   "metadata": {},
   "source": [
    "### 在上一批次运行上运行评估\n",
    "**base_run** 是我们在上面的第 2 步中完成的批处理运行，实现以 \"data.jsonl\" 作为输入的 Web 分类流程。\n"
   ]
  },
  {
   "cell_type": "code",
   "execution_count": 9,
   "metadata": {},
   "outputs": [
    {
     "name": "stdout",
     "output_type": "stream",
     "text": [
      "2023-08-31 15:50:42 +0800    2100 execution          INFO     Start to run 1 nodes with concurrency level 2.\n",
      "2023-08-31 15:50:42 +0800    2100 execution.flow     INFO     Executing node grade. node run id: c_users_wazhi_documents_github_fy24devhack_promptflow_examples_flows_evaluation_eval_classification_accuracy_default_20230831_155039_236049_grade_2\n",
      "2023-08-31 15:50:42 +0800   45676 execution          INFO     Start to run 1 nodes with concurrency level 2.\n",
      "2023-08-31 15:50:42 +0800   45676 execution.flow     INFO     Executing node grade. node run id: c_users_wazhi_documents_github_fy24devhack_promptflow_examples_flows_evaluation_eval_classification_accuracy_default_20230831_155039_236049_grade_0\n",
      "2023-08-31 15:50:42 +0800   21068 execution          INFO     Start to run 1 nodes with concurrency level 2.\n",
      "2023-08-31 15:50:42 +0800   21068 execution.flow     INFO     Executing node grade. node run id: c_users_wazhi_documents_github_fy24devhack_promptflow_examples_flows_evaluation_eval_classification_accuracy_default_20230831_155039_236049_grade_1\n",
      "2023-08-31 15:50:42 +0800    2100 execution.flow     INFO     Node grade completes.\n",
      "2023-08-31 15:50:42 +0800   45676 execution.flow     INFO     Node grade completes.\n",
      "2023-08-31 15:50:42 +0800   21068 execution.flow     INFO     Node grade completes.\n",
      "2023-08-31 15:50:43 +0800   13748 execution          INFO     Process 1 queue empty, exit.\n",
      "2023-08-31 15:50:43 +0800   13748 execution          INFO     Process 0 queue empty, exit.\n",
      "2023-08-31 15:50:43 +0800   13748 execution          INFO     Process 2 queue empty, exit.\n",
      "2023-08-31 15:50:43 +0800   13748 execution          INFO     Executing aggregation nodes...\n",
      "2023-08-31 15:50:43 +0800   13748 execution          INFO     Start to run 1 nodes with concurrency level 2.\n",
      "2023-08-31 15:50:43 +0800   13748 execution.flow     INFO     Executing node calculate_accuracy. node run id: c_users_wazhi_documents_github_fy24devhack_promptflow_examples_flows_evaluation_eval_classification_accuracy_default_20230831_155039_236049_calculate_accuracy_reduce\n",
      "2023-08-31 15:50:43 +0800   13748 execution.flow     INFO     Node calculate_accuracy completes.\n",
      "2023-08-31 15:50:43 +0800   13748 execution          INFO     Finish executing aggregation nodes.\n",
      "======= Run Summary =======\n",
      "\n",
      "Run name: \"c_users_wazhi_documents_github_fy24devhack_promptflow_examples_flows_evaluation_eval_classification_accuracy_default_20230831_155039_236049\"\n",
      "Run status: \"Completed\"\n",
      "Start time: \"2023-08-31 15:50:39.234048\"\n",
      "Duration: \"0:00:04.558947\"\n",
      "Output path: \"C:\\Users\\wazhi\\.promptflow\\.runs\\c_users_wazhi_documents_github_fy24devhack_promptflow_examples_flows_evaluation_eval_classification_accuracy_default_20230831_155039_236049\"\n",
      "\n"
     ]
    }
   ],
   "source": [
    "eval_flow = \"../../flows/evaluation/eval-classification-accuracy\"\n",
    "\n",
    "eval_run = pf.run(\n",
    "    flow=eval_flow,\n",
    "    data=\"../../flows/standard/web-classification/data.jsonl\",  # path to the data file\n",
    "    run=base_run,  # specify base_run as the run you want to evaluate\n",
    "    column_mapping={\n",
    "        \"groundtruth\": \"${data.answer}\",\n",
    "        \"prediction\": \"${run.outputs.category}\",\n",
    "    },  # map the url field from the data to the url input of the flow\n",
    "    stream=True,\n",
    ")"
   ]
  },
  {
   "cell_type": "code",
   "execution_count": 10,
   "metadata": {},
   "outputs": [
    {
     "data": {
      "text/html": [
       "<div>\n",
       "<style scoped>\n",
       "    .dataframe tbody tr th:only-of-type {\n",
       "        vertical-align: middle;\n",
       "    }\n",
       "\n",
       "    .dataframe tbody tr th {\n",
       "        vertical-align: top;\n",
       "    }\n",
       "\n",
       "    .dataframe thead th {\n",
       "        text-align: right;\n",
       "    }\n",
       "</style>\n",
       "<table border=\"1\" class=\"dataframe\">\n",
       "  <thead>\n",
       "    <tr style=\"text-align: right;\">\n",
       "      <th></th>\n",
       "      <th>inputs.groundtruth</th>\n",
       "      <th>inputs.prediction</th>\n",
       "      <th>inputs.line_number</th>\n",
       "      <th>outputs.grade</th>\n",
       "    </tr>\n",
       "  </thead>\n",
       "  <tbody>\n",
       "    <tr>\n",
       "      <th>0</th>\n",
       "      <td>Channel</td>\n",
       "      <td>None</td>\n",
       "      <td>0</td>\n",
       "      <td>Incorrect</td>\n",
       "    </tr>\n",
       "    <tr>\n",
       "      <th>1</th>\n",
       "      <td>Academic</td>\n",
       "      <td>Academic</td>\n",
       "      <td>1</td>\n",
       "      <td>Correct</td>\n",
       "    </tr>\n",
       "    <tr>\n",
       "      <th>2</th>\n",
       "      <td>App</td>\n",
       "      <td>App</td>\n",
       "      <td>2</td>\n",
       "      <td>Correct</td>\n",
       "    </tr>\n",
       "  </tbody>\n",
       "</table>\n",
       "</div>"
      ],
      "text/plain": [
       "  inputs.groundtruth inputs.prediction  inputs.line_number outputs.grade\n",
       "0            Channel              None                   0     Incorrect\n",
       "1           Academic          Academic                   1       Correct\n",
       "2                App               App                   2       Correct"
      ]
     },
     "execution_count": 10,
     "metadata": {},
     "output_type": "execute_result"
    }
   ],
   "source": [
    "details = pf.get_details(eval_run)\n",
    "details.head(10)"
   ]
  },
  {
   "cell_type": "code",
   "execution_count": 11,
   "metadata": {},
   "outputs": [
    {
     "name": "stdout",
     "output_type": "stream",
     "text": [
      "{\n",
      "    \"accuracy\": 0.67\n",
      "}\n"
     ]
    }
   ],
   "source": [
    "metrics = pf.get_metrics(eval_run)\n",
    "print(json.dumps(metrics, indent=4))"
   ]
  },
  {
   "cell_type": "code",
   "execution_count": 12,
   "metadata": {},
   "outputs": [
    {
     "name": "stdout",
     "output_type": "stream",
     "text": [
      "The HTML file is generated at 'C:\\\\Users\\\\wazhi\\\\AppData\\\\Local\\\\Temp\\\\pf-visualize-detail-sxq3il0_.html'.\n",
      "Trying to view the result in a web browser...\n",
      "Successfully visualized from the web browser.\n"
     ]
    }
   ],
   "source": [
    "pf.visualize([base_run, eval_run])"
   ]
  },
  {
   "cell_type": "markdown",
   "metadata": {},
   "source": [
    "到目前为止，您已经成功运行了第一个Prompt Flow，甚至对其进行了评估。太棒了！\n",
    "\n",
    "您可以查看[web-classifcation](../../flows/standard/web-classification/)流和[classification-accuracy](../../flows/evaluation/eval-classification-accuracy/)流以获取更多详细信息，并开始构建自己的流程。\n",
    "\n",
    "或者您可以继续进行更进阶的主题：尝试使用变体。\n"
   ]
  },
  {
   "cell_type": "markdown",
   "metadata": {},
   "source": [
    "### 使用变体的批量测试\n",
    "\n",
    "[变体（Variant）](../../../docs/concepts/concept-variants.md) 能够帮助你进行基于LLM的优化迭代。你可以设置一个变体并使用不同的参数（例如温度），或者不同的Prompt来测试批量数据下的效果提升。\n",
    "\n",
    "在接下来的示例中， `web-classification`中的node `summarize_text_content` 有两个不同的变体: `variant_0` and `variant_1`. 他们的差异来自于参数上的不同：\n",
    "\n",
    "variant_0:\n",
    "\n",
    "    - inputs:\n",
    "        - deployment_name: gpt-35-turbo\n",
    "        - max_tokens: '128'\n",
    "        - temperature: '0.2'\n",
    "        - text: ${fetch_text_content_from_url.output}\n",
    "\n",
    "variant_1:\n",
    "\n",
    "    - inputs:\n",
    "        - deployment_name: gpt-35-turbo\n",
    "        - max_tokens: '256'\n",
    "        - temperature: '0.3'\n",
    "        - text: ${fetch_text_content_from_url.output}\n",
    "\n",
    "\n",
    "你可以参考完整的flow定义在文件 [flow.dag.yaml](../../flows/standard/web-classification/flow.dag.yaml)中。"
   ]
  },
  {
   "cell_type": "code",
   "execution_count": 13,
   "metadata": {},
   "outputs": [
    {
     "name": "stdout",
     "output_type": "stream",
     "text": [
      "2023-08-31 15:50:58 +0800   44888 execution          INFO     Start to run 5 nodes with concurrency level 2.\n",
      "2023-08-31 15:50:58 +0800   26240 execution          INFO     Start to run 5 nodes with concurrency level 2.\n",
      "2023-08-31 15:50:58 +0800   44888 execution.flow     INFO     Executing node fetch_text_content_from_url. node run id: c_users_wazhi_documents_github_fy24devhack_promptflow_examples_flows_standard_web_classification_variant_1_20230831_155054_373449_fetch_text_content_from_url_0\n",
      "2023-08-31 15:50:58 +0800   44888 execution.flow     INFO     Executing node prepare_examples. node run id: c_users_wazhi_documents_github_fy24devhack_promptflow_examples_flows_standard_web_classification_variant_1_20230831_155054_373449_prepare_examples_0\n",
      "t_content_from_url_1\n",
      "2023-08-31 15:50:58 +0800   26240 execution.flow     INFO     Executing node prepare_examples. node run id: c_users_wazhi_documents_github_fy24devhack_promptflow_examples_flows_standard_web_classification_variant_1_20230831_155054_373449_prepare_examples_1\n",
      "2023-08-31 15:50:58 +0800   36348 execution          INFO     Start to run 5 nodes with concurrency level 2.\n",
      "2023-08-31 15:50:58 +0800   36348 execution.flow     INFO     Executing node fetch_text_content_from_url. node run id: c_users_wazhi_documents_github_fy24devhack_promptflow_examples_flows_standard_web_classification_variant_1_20230831_155054_373449_fetch_text_content_from_url_2\n",
      "2023-08-31 15:50:58 +0800   36348 execution.flow     INFO     Executing node prepare_examples. node run id: c_users_wazhi_documents_github_fy24devhack_promptflow_examples_flows_standard_web_classification_variant_1_20230831_155054_373449_prepare_examples_2\n",
      "2023-08-31 15:50:58 +0800   44888 execution.flow     INFO     Node prepare_examples completes.\n",
      "2023-08-31 15:50:58 +0800   26240 execution.flow     INFO     Node prepare_examples completes.\n",
      "2023-08-31 15:50:58 +0800   36348 execution.flow     INFO     Node prepare_examples completes.\n",
      "2023-08-31 15:50:59 +0800   36348 execution.flow     INFO     Node fetch_text_content_from_url completes.\n",
      "2023-08-31 15:50:59 +0800   36348 execution.flow     INFO     Executing node summarize_text_content. node run id: c_users_wazhi_documents_github_fy24devhack_promptflow_examples_flows_standard_web_classification_variant_1_20230831_155054_373449_summarize_text_content_2\n",
      "2023-08-31 15:50:59 +0800   44888 execution.flow     INFO     Node fetch_text_content_from_url completes.\n",
      "2023-08-31 15:50:59 +0800   44888 execution.flow     INFO     Executing node summarize_text_content. node run id: c_users_wazhi_documents_github_fy24devhack_promptflow_examples_flows_standard_web_classification_variant_1_20230831_155054_373449_summarize_text_content_0\n",
      "2023-08-31 15:50:59 +0800   26240 execution.flow     INFO     Node fetch_text_content_from_url completes.\n",
      "2023-08-31 15:50:59 +0800   26240 execution.flow     INFO     Executing node summarize_text_content. node run id: c_users_wazhi_documents_github_fy24devhack_promptflow_examples_flows_standard_web_classification_variant_1_20230831_155054_373449_summarize_text_content_1\n",
      "2023-08-31 15:51:04 +0800   44888 execution.flow     INFO     Node summarize_text_content completes.\n",
      "2023-08-31 15:51:04 +0800   44888 execution.flow     INFO     Executing node classify_with_llm. node run id: c_users_wazhi_documents_github_fy24devhack_promptflow_examples_flows_standard_web_classification_variant_1_20230831_155054_373449_classify_with_llm_0\n",
      "2023-08-31 15:51:05 +0800   44888 execution.flow     INFO     Node classify_with_llm completes.\n",
      "2023-08-31 15:51:05 +0800   44888 execution.flow     INFO     Executing node convert_to_dict. node run id: c_users_wazhi_documents_github_fy24devhack_promptflow_examples_flows_standard_web_classification_variant_1_20230831_155054_373449_convert_to_dict_0\n",
      "2023-08-31 15:51:05 +0800   44888 execution.flow     INFO     Node convert_to_dict completes.\n",
      "2023-08-31 15:51:06 +0800   13748 execution          INFO     Process 1 queue empty, exit.\n",
      "2023-08-31 15:51:06 +0800   36348 execution.flow     INFO     Node summarize_text_content completes.\n",
      "2023-08-31 15:51:06 +0800   36348 execution.flow     INFO     Executing node classify_with_llm. node run id: c_users_wazhi_documents_github_fy24devhack_promptflow_examples_flows_standard_web_classification_variant_1_20230831_155054_373449_classify_with_llm_2\n",
      "2023-08-31 15:51:07 +0800   36348 execution.flow     INFO     Node classify_with_llm completes.\n",
      "2023-08-31 15:51:07 +0800   36348 execution.flow     INFO     Executing node convert_to_dict. node run id: c_users_wazhi_documents_github_fy24devhack_promptflow_examples_flows_standard_web_classification_variant_1_20230831_155054_373449_convert_to_dict_2\n",
      "2023-08-31 15:51:07 +0800   36348 execution.flow     INFO     Node convert_to_dict completes.\n",
      "2023-08-31 15:51:08 +0800   26240 execution.flow     INFO     Node summarize_text_content completes.\n",
      "2023-08-31 15:51:08 +0800   26240 execution.flow     INFO     Executing node classify_with_llm. node run id: c_users_wazhi_documents_github_fy24devhack_promptflow_examples_flows_standard_web_classification_variant_1_20230831_155054_373449_classify_with_llm_1\n",
      "2023-08-31 15:51:08 +0800   13748 execution          INFO     Process 2 queue empty, exit.\n",
      "2023-08-31 15:51:08 +0800   26240 execution.flow     INFO     Node classify_with_llm completes.\n",
      "2023-08-31 15:51:08 +0800   26240 execution.flow     INFO     Executing node convert_to_dict. node run id: c_users_wazhi_documents_github_fy24devhack_promptflow_examples_flows_standard_web_classification_variant_1_20230831_155054_373449_convert_to_dict_1\n",
      "2023-08-31 15:51:08 +0800   26240 execution.flow     INFO     Node convert_to_dict completes.\n",
      "2023-08-31 15:51:09 +0800   13748 execution          INFO     Process 0 queue empty, exit.\n",
      "======= Run Summary =======\n",
      "\n",
      "Run name: \"c_users_wazhi_documents_github_fy24devhack_promptflow_examples_flows_standard_web_classification_variant_1_20230831_155054_373449\"\n",
      "Run status: \"Completed\"\n",
      "Start time: \"2023-08-31 15:50:54.370440\"\n",
      "Duration: \"0:00:15.652624\"\n",
      "Output path: \"C:\\Users\\wazhi\\.promptflow\\.runs\\c_users_wazhi_documents_github_fy24devhack_promptflow_examples_flows_standard_web_classification_variant_1_20230831_155054_373449\"\n",
      "\n"
     ]
    }
   ],
   "source": [
    "# use the variant1 of the summarize_text_content node.\n",
    "variant_run = pf.run(\n",
    "    flow=flow,\n",
    "    data=data,\n",
    "    variant=\"${summarize_text_content.variant_1}\",  # here we specify node \"summarize_text_content\" to use variant 1 version.\n",
    "    stream=True,\n",
    ")"
   ]
  },
  {
   "cell_type": "code",
   "execution_count": 14,
   "metadata": {},
   "outputs": [
    {
     "data": {
      "text/html": [
       "<div>\n",
       "<style scoped>\n",
       "    .dataframe tbody tr th:only-of-type {\n",
       "        vertical-align: middle;\n",
       "    }\n",
       "\n",
       "    .dataframe tbody tr th {\n",
       "        vertical-align: top;\n",
       "    }\n",
       "\n",
       "    .dataframe thead th {\n",
       "        text-align: right;\n",
       "    }\n",
       "</style>\n",
       "<table border=\"1\" class=\"dataframe\">\n",
       "  <thead>\n",
       "    <tr style=\"text-align: right;\">\n",
       "      <th></th>\n",
       "      <th>inputs.url</th>\n",
       "      <th>inputs.line_number</th>\n",
       "      <th>outputs.category</th>\n",
       "      <th>outputs.evidence</th>\n",
       "    </tr>\n",
       "  </thead>\n",
       "  <tbody>\n",
       "    <tr>\n",
       "      <th>0</th>\n",
       "      <td>https://www.youtube.com/watch?v=kYqRtjDBci8</td>\n",
       "      <td>0</td>\n",
       "      <td>None</td>\n",
       "      <td>None</td>\n",
       "    </tr>\n",
       "    <tr>\n",
       "      <th>1</th>\n",
       "      <td>https://arxiv.org/abs/2307.04767</td>\n",
       "      <td>1</td>\n",
       "      <td>Academic</td>\n",
       "      <td>Text content</td>\n",
       "    </tr>\n",
       "    <tr>\n",
       "      <th>2</th>\n",
       "      <td>https://play.google.com/store/apps/details?id=...</td>\n",
       "      <td>2</td>\n",
       "      <td>App</td>\n",
       "      <td>Both</td>\n",
       "    </tr>\n",
       "  </tbody>\n",
       "</table>\n",
       "</div>"
      ],
      "text/plain": [
       "                                          inputs.url  inputs.line_number  \\\n",
       "0        https://www.youtube.com/watch?v=kYqRtjDBci8                   0   \n",
       "1                   https://arxiv.org/abs/2307.04767                   1   \n",
       "2  https://play.google.com/store/apps/details?id=...                   2   \n",
       "\n",
       "  outputs.category outputs.evidence  \n",
       "0             None             None  \n",
       "1         Academic     Text content  \n",
       "2              App             Both  "
      ]
     },
     "execution_count": 14,
     "metadata": {},
     "output_type": "execute_result"
    }
   ],
   "source": [
    "details = pf.get_details(variant_run)\n",
    "details.head(10)"
   ]
  },
  {
   "cell_type": "markdown",
   "metadata": {},
   "source": [
    "### 评估不同变体的效果\n",
    "后续我们可以比较不同变体下的metrics来看哪个效果更好。"
   ]
  },
  {
   "cell_type": "code",
   "execution_count": 15,
   "metadata": {},
   "outputs": [
    {
     "name": "stdout",
     "output_type": "stream",
     "text": [
      "2023-08-31 15:51:13 +0800   40644 execution          INFO     Start to run 1 nodes with concurrency level 2.\n",
      "2023-08-31 15:51:13 +0800   40644 execution.flow     INFO     Executing node grade. node run id: c_users_wazhi_documents_github_fy24devhack_promptflow_examples_flows_evaluation_eval_classification_accuracy_default_20230831_155110_122598_grade_0\n",
      "2023-08-31 15:51:13 +0800   26048 execution          INFO     Start to run 1 nodes with concurrency level 2.\n",
      "2023-08-31 15:51:13 +0800   26048 execution.flow     INFO     Executing node grade. node run id: c_users_wazhi_documents_github_fy24devhack_promptflow_examples_flows_evaluation_eval_classification_accuracy_default_20230831_155110_122598_grade_1\n",
      "2023-08-31 15:51:13 +0800    4776 execution          INFO     Start to run 1 nodes with concurrency level 2.\n",
      "2023-08-31 15:51:13 +0800    4776 execution.flow     INFO     Executing node grade. node run id: c_users_wazhi_documents_github_fy24devhack_promptflow_examples_flows_evaluation_eval_classification_accuracy_default_20230831_155110_122598_grade_2\n",
      "2023-08-31 15:51:13 +0800   40644 execution.flow     INFO     Node grade completes.\n",
      "2023-08-31 15:51:13 +0800   26048 execution.flow     INFO     Node grade completes.\n",
      "2023-08-31 15:51:13 +0800    4776 execution.flow     INFO     Node grade completes.\n",
      "2023-08-31 15:51:14 +0800   13748 execution          INFO     Process 2 queue empty, exit.\n",
      "2023-08-31 15:51:14 +0800   13748 execution          INFO     Process 1 queue empty, exit.\n",
      "2023-08-31 15:51:14 +0800   13748 execution          INFO     Process 0 queue empty, exit.\n",
      "2023-08-31 15:51:14 +0800   13748 execution          INFO     Executing aggregation nodes...\n",
      "2023-08-31 15:51:14 +0800   13748 execution          INFO     Start to run 1 nodes with concurrency level 2.\n",
      "2023-08-31 15:51:14 +0800   13748 execution.flow     INFO     Executing node calculate_accuracy. node run id: c_users_wazhi_documents_github_fy24devhack_promptflow_examples_flows_evaluation_eval_classification_accuracy_default_20230831_155110_122598_calculate_accuracy_reduce\n",
      "2023-08-31 15:51:14 +0800   13748 execution.flow     INFO     Node calculate_accuracy completes.\n",
      "2023-08-31 15:51:14 +0800   13748 execution          INFO     Finish executing aggregation nodes.\n",
      "======= Run Summary =======\n",
      "\n",
      "Run name: \"c_users_wazhi_documents_github_fy24devhack_promptflow_examples_flows_evaluation_eval_classification_accuracy_default_20230831_155110_122598\"\n",
      "Run status: \"Completed\"\n",
      "Start time: \"2023-08-31 15:51:10.119139\"\n",
      "Duration: \"0:00:04.274424\"\n",
      "Output path: \"C:\\Users\\wazhi\\.promptflow\\.runs\\c_users_wazhi_documents_github_fy24devhack_promptflow_examples_flows_evaluation_eval_classification_accuracy_default_20230831_155110_122598\"\n",
      "\n"
     ]
    }
   ],
   "source": [
    "eval_flow = \"../../flows/evaluation/eval-classification-accuracy\"\n",
    "\n",
    "eval_run_variant = pf.run(\n",
    "    flow=eval_flow,\n",
    "    data=\"../../flows/standard/web-classification/data.jsonl\",  # path to the data file\n",
    "    run=variant_run,  # use run as the variant\n",
    "    column_mapping={\n",
    "        \"groundtruth\": \"${data.answer}\",\n",
    "        \"prediction\": \"${run.outputs.category}\",\n",
    "    },  # map the url field from the data to the url input of the flow\n",
    "    stream=True,\n",
    ")"
   ]
  },
  {
   "cell_type": "code",
   "execution_count": 16,
   "metadata": {},
   "outputs": [
    {
     "data": {
      "text/html": [
       "<div>\n",
       "<style scoped>\n",
       "    .dataframe tbody tr th:only-of-type {\n",
       "        vertical-align: middle;\n",
       "    }\n",
       "\n",
       "    .dataframe tbody tr th {\n",
       "        vertical-align: top;\n",
       "    }\n",
       "\n",
       "    .dataframe thead th {\n",
       "        text-align: right;\n",
       "    }\n",
       "</style>\n",
       "<table border=\"1\" class=\"dataframe\">\n",
       "  <thead>\n",
       "    <tr style=\"text-align: right;\">\n",
       "      <th></th>\n",
       "      <th>inputs.groundtruth</th>\n",
       "      <th>inputs.prediction</th>\n",
       "      <th>inputs.line_number</th>\n",
       "      <th>outputs.grade</th>\n",
       "    </tr>\n",
       "  </thead>\n",
       "  <tbody>\n",
       "    <tr>\n",
       "      <th>0</th>\n",
       "      <td>Channel</td>\n",
       "      <td>None</td>\n",
       "      <td>0</td>\n",
       "      <td>Incorrect</td>\n",
       "    </tr>\n",
       "    <tr>\n",
       "      <th>1</th>\n",
       "      <td>Academic</td>\n",
       "      <td>Academic</td>\n",
       "      <td>1</td>\n",
       "      <td>Correct</td>\n",
       "    </tr>\n",
       "    <tr>\n",
       "      <th>2</th>\n",
       "      <td>App</td>\n",
       "      <td>App</td>\n",
       "      <td>2</td>\n",
       "      <td>Correct</td>\n",
       "    </tr>\n",
       "  </tbody>\n",
       "</table>\n",
       "</div>"
      ],
      "text/plain": [
       "  inputs.groundtruth inputs.prediction  inputs.line_number outputs.grade\n",
       "0            Channel              None                   0     Incorrect\n",
       "1           Academic          Academic                   1       Correct\n",
       "2                App               App                   2       Correct"
      ]
     },
     "execution_count": 16,
     "metadata": {},
     "output_type": "execute_result"
    }
   ],
   "source": [
    "details = pf.get_details(eval_run_variant)\n",
    "details.head(10)"
   ]
  },
  {
   "cell_type": "code",
   "execution_count": 17,
   "metadata": {},
   "outputs": [
    {
     "name": "stdout",
     "output_type": "stream",
     "text": [
      "{\n",
      "    \"accuracy\": 0.67\n",
      "}\n"
     ]
    }
   ],
   "source": [
    "metrics = pf.get_metrics(eval_run_variant)\n",
    "print(json.dumps(metrics, indent=4))"
   ]
  },
  {
   "cell_type": "code",
   "execution_count": 18,
   "metadata": {},
   "outputs": [
    {
     "name": "stdout",
     "output_type": "stream",
     "text": [
      "The HTML file is generated at 'C:\\\\Users\\\\wazhi\\\\AppData\\\\Local\\\\Temp\\\\pf-visualize-detail-ae5081eo.html'.\n",
      "Trying to view the result in a web browser...\n",
      "Successfully visualized from the web browser.\n"
     ]
    }
   ],
   "source": [
    "pf.visualize([eval_run, eval_run_variant])"
   ]
  },
  {
   "cell_type": "markdown",
   "metadata": {},
   "source": [
    "# 下一步\n",
    "\n",
    "后续你还可以参考以下进阶教程:\n",
    "- [Manage connections](../../connections/connection.ipynb): how to manage the endpoints/secrets information to access external services including LLMs.\n",
    "- [Chat with PDF](../e2e-development/chat-with-pdf.md): go through an end-to-end tutorial on how to develop a chat application with prompt flow.\n",
    "- [Deploy http endpoint](../flow-deploy/deploy.md): how to deploy the flow as a local http endpoint.\n",
    "- [Prompt flow in Azure AI](./quickstart-azure.ipynb): run and evaluate flow in Azure AI where you can collaborate with team better."
   ]
  }
 ],
 "metadata": {
  "description": "A quickstart tutorial to run a flow and evaluate it.",
  "kernelspec": {
   "display_name": "pflow",
   "language": "python",
   "name": "python3"
  },
  "language_info": {
   "codemirror_mode": {
    "name": "ipython",
    "version": 3
   },
   "file_extension": ".py",
   "mimetype": "text/x-python",
   "name": "python",
   "nbconvert_exporter": "python",
   "pygments_lexer": "ipython3",
   "version": "3.11.2"
  }
 },
 "nbformat": 4,
 "nbformat_minor": 2
}
